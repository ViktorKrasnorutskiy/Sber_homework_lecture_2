{
 "cells": [
  {
   "cell_type": "markdown",
   "metadata": {},
   "source": [
    "## Задание\n",
    "\n",
    "#### Основная часть\n",
    "\n",
    "1. Попробовать построить все графики из тех, что были на уроке по Seaborn\n",
    "2. Попробовать графики из тех, что были на уроке в Matplotlib и Plotly\n",
    "\n",
    "#### Дополнительная часть\n",
    "\n",
    "1. Некоторые данные представлены в агрегированном в виде в разном временном размере. Если вам нужны дополнительные переменные, то добавьте их в датасет.\n",
    "\n",
    "2. Опишите данную вам выборку, а так же кластеризуйте данные с помощь инструментов Python (количество кластеров на ваше усмотрение) и опишите полученные кластеры ( например, в первом кластере представлены клиенты с таким-то поведением или продуктовым наполнением).\n",
    "\n",
    "3. Для выполнения работы, пожалуйста, используйте Python. Задание мы ждем выполненным в Jupyter notebook с соответствующими комментариями."
   ]
  },
  {
   "cell_type": "code",
   "execution_count": null,
   "metadata": {},
   "outputs": [],
   "source": [
    "import pandas as pd\n",
    "import numpy as np\n",
    "import matplotlib.pyplot as plt\n",
    "import seaborn as sns\n",
    "\n",
    "from pylab import rcParams\n",
    "rcParams['figure.figsize'] = 9,12"
   ]
  },
  {
   "cell_type": "code",
   "execution_count": null,
   "metadata": {},
   "outputs": [],
   "source": [
    "df_original = pd.read_csv(\"test_cluster.csv\", encoding=\"cp1251\", sep=\";\")\n",
    "df = df_original.copy()\n",
    "df = df.drop([\"loan_to_deposit\"], axis=1)\n",
    "df = df.dropna()\n",
    "df.head()"
   ]
  },
  {
   "cell_type": "markdown",
   "metadata": {},
   "source": [
    "### Графики matplotlib из лекции"
   ]
  },
  {
   "cell_type": "code",
   "execution_count": null,
   "metadata": {},
   "outputs": [],
   "source": [
    "# Линейная диаграмма\n",
    "\n",
    "df_vis = df.copy()\n",
    "df_vis = df_vis.groupby(\"age\").mean()\n",
    "\n",
    "x = df_vis.index\n",
    "y = df_vis.nbi\n",
    "\n",
    "plt.plot(x,y)\n",
    "plt.xlabel(\"Возраст клиента (age)\")\n",
    "plt.ylabel(\"Средний доход с клиента (nbi)\")\n",
    "plt.title(\"График зависимости среднего дохода с клиента от его возраста\", \n",
    "          size=16)\n",
    "plt.show()"
   ]
  },
  {
   "cell_type": "code",
   "execution_count": null,
   "metadata": {},
   "outputs": [],
   "source": [
    "# Точечная диаграмма\n",
    "\n",
    "df_vis = df.copy()\n",
    "df_vis = df_vis.groupby(\"age\").mean()\n",
    "\n",
    "x = df_vis.full_mob\n",
    "y = df_vis.income\n",
    "plt.scatter(x, y)\n",
    "\n",
    "plt.xlabel(\"Средняя продолжительность взаимодействия с клиентом (full_mob)\")\n",
    "plt.ylabel(\"Средний доход с клиента (nbi)\")\n",
    "plt.title(\"Точечная диаграмма отмечающая средний показатель дохода с клиента (nbi)\\n\"\\\n",
    "          \"по продолжительности взаимодействия (full_mob)\",\n",
    "         size=16)\n",
    "plt.show()"
   ]
  },
  {
   "cell_type": "code",
   "execution_count": null,
   "metadata": {},
   "outputs": [],
   "source": [
    "# Гистограмма\n",
    "\n",
    "df_vis = df.copy()\n",
    "x = df_vis.dc_trx_cnt\n",
    "plt.hist(x, bins=100)\n",
    "\n",
    "plt.xlabel(\"Кол-во расходов по карте (dc_trx_cnt)\")\n",
    "plt.ylabel(\"Кол-во наблюдений в выборке\")\n",
    "plt.title(\"График распределения кол-ва расходов по карте (dc_trx_cnt)\", \n",
    "          size=16)\n",
    "plt.show()"
   ]
  },
  {
   "cell_type": "markdown",
   "metadata": {},
   "source": [
    "### Графики seaborn из лекции"
   ]
  },
  {
   "cell_type": "code",
   "execution_count": null,
   "metadata": {},
   "outputs": [],
   "source": [
    "# Формирует строку запроса для удаления слишком больших/малых значений\n",
    "def get_drop_extreme_values_query(df, features):\n",
    "    queries = []\n",
    "    for feature in features:\n",
    "        Q1 = df[feature].quantile(0.25)\n",
    "        Q3 = df[feature].quantile(0.75)\n",
    "        IQR = Q3-Q1\n",
    "        k=1.5 # всеравно остается много выбросов\n",
    "        sub_query = f\"(({feature} == 0) | ({Q1-IQR*k} < {feature} < {Q3+IQR*k}))\"\n",
    "        queries.append(sub_query)\n",
    "    query = \" & \".join(q for q in queries)\n",
    "    return query"
   ]
  },
  {
   "cell_type": "code",
   "execution_count": null,
   "metadata": {},
   "outputs": [],
   "source": [
    "df_vis = df.copy()\n",
    "df_vis = df_vis.groupby(\"age\").mean()\n",
    "query = get_drop_extreme_values_query(df_vis, [\"nbi\", \"income\"])\n",
    "\n",
    "sns.relplot(\n",
    "    x='full_mob', \n",
    "    y='nbi',\n",
    "    hue=df.city_type,\n",
    "    data=df_vis.query(query), \n",
    "    kind='line'\n",
    ")\n",
    "plt.title('Линейный график зависимости дохода с клиента (nbi)\\n'\\\n",
    "          'от продолжительности взаимодействия (full_mob),\\n'\\\n",
    "          'по типу города (city_type)\\n\\n'\\\n",
    "          'relplot (kind=\"line\")', \n",
    "          size=12, color='m', weight='bold');"
   ]
  },
  {
   "cell_type": "code",
   "execution_count": null,
   "metadata": {},
   "outputs": [],
   "source": [
    "df_vis = df.copy()\n",
    "df_vis = df_vis.groupby(\"age\").mean()\n",
    "query = get_drop_extreme_values_query(df_vis, [\"nbi\", \"income\"])\n",
    "\n",
    "sns.relplot(\n",
    "    x='income', \n",
    "    y='nbi',\n",
    "    hue=df.gender,\n",
    "    data=df_vis.query(query), \n",
    "    kind='scatter'\n",
    ")\n",
    "plt.title('Точечная диаграмма зависимости дохода с клиента (nbi)\\n'\\\n",
    "          'от дохода клиента (income),\\n'\\\n",
    "          'по половому признаку (gender)\\n\\n'\\\n",
    "          'relplot (kind=\"scatter\")', \n",
    "          size=12, color='m', weight='bold');"
   ]
  },
  {
   "cell_type": "code",
   "execution_count": null,
   "metadata": {},
   "outputs": [],
   "source": [
    "df_vis = df.copy()\n",
    "city_order = list(df_vis.city_type.unique())\n",
    "\n",
    "sns.catplot(\n",
    "    x='city_type',\n",
    "    y='age', \n",
    "    data=df_vis, \n",
    "    order=city_order,\n",
    "    jitter=True,\n",
    "    height=4, \n",
    "    aspect=2, \n",
    "    kind='strip', \n",
    "    dodge=True\n",
    ")\n",
    "\n",
    "plt.title('Точечная диаграмма рассеяния значений возраста (age)\\n'\\\n",
    "          'по типу города (city_type)\\n\\n'\\\n",
    "          'catplot (kind=\"strip\")', \n",
    "          size=12, color='m', weight='bold');"
   ]
  },
  {
   "cell_type": "code",
   "execution_count": null,
   "metadata": {},
   "outputs": [],
   "source": [
    "df_vis = df.copy()\n",
    "\n",
    "sns.catplot(\n",
    "    x='city_type', \n",
    "    y='age', \n",
    "    data=df_vis, \n",
    "    kind='box', \n",
    "    height=4, \n",
    "    aspect=2\n",
    "); \n",
    "\n",
    "plt.title('\"Ящики с усами\" распределений возраста (age)\\n'\\\n",
    "          'по типу города (city_type)\\n\\n'\\\n",
    "          'catplot (kind=\"box\")', \n",
    "          size=12, color='m', weight='bold');"
   ]
  },
  {
   "cell_type": "code",
   "execution_count": null,
   "metadata": {},
   "outputs": [],
   "source": [
    "df_vis = df.copy()\n",
    "\n",
    "query = get_drop_extreme_values_query(df_vis, [\"nbi\"])\n",
    "df_after_drop_extreme_values = df_vis.query(query)\n",
    "\n",
    "fig, ax = plt.subplots(ncols=2)\n",
    "\n",
    "sns.boxplot(\n",
    "    x='city_type', \n",
    "    y='nbi', \n",
    "    data=df_before, \n",
    "    ax=ax[0]\n",
    ");\n",
    "ax[0].set_title(f'Со всеми значениями.\\n'\\\n",
    "                'Кол-во наблюдений - {df_vis.shape[0]}.\\n\\n'\\\n",
    "                'boxplot', \n",
    "                size=12, color='m');\n",
    "\n",
    "sns.boxplot(\n",
    "    x='city_type', \n",
    "    y='nbi', \n",
    "    data=df_after_drop_extreme_values, \n",
    "    ax=ax[1]\n",
    ");\n",
    "ax[1].set_title('Без экстримально больших значений.\\n'\\\n",
    "                f'Кол-во наблюдений - {df_after_drop_extreme_values.shape[0]}.\\n\\n'\\\n",
    "                'boxplot', \n",
    "                size=12, color='m', weight='bold');"
   ]
  },
  {
   "cell_type": "code",
   "execution_count": null,
   "metadata": {},
   "outputs": [],
   "source": [
    "df_vis = df.copy()\n",
    "fig, ax = plt.subplots(1,2)\n",
    "\n",
    "df_vis_males = df[df_vis.gender == \"М\"]\n",
    "df_vis_females = df[df_vis.gender == \"F\"]\n",
    "city_order = list(df_vis.city_type.unique())\n",
    "\n",
    "sns.countplot(df_vis_males['city_type'], order = city_order, ax=ax[0]);\n",
    "ax[0].set_title('Кол-во мужчин по типу города.\\n'\\\n",
    "                f'Всего наблюдений - {df_vis_males.shape[0]}.\\n\\n'\\\n",
    "                'boxplot',\n",
    "                size=12, color='m');\n",
    "\n",
    "sns.countplot(df_vis_females['city_type'], order = city_order, ax=ax[1]);\n",
    "ax[1].set_title(f'Кол-во женщин по типу города.\\n'\\\n",
    "                'Кол-во наблюдений - {df_vis_females.shape[0]}.\\n\\n'\\\n",
    "                'boxplot', \n",
    "                size=12, color='m', weight='bold');"
   ]
  },
  {
   "cell_type": "code",
   "execution_count": null,
   "metadata": {},
   "outputs": [],
   "source": [
    "df_vis = df.copy()\n",
    "\n",
    "query = get_drop_extreme_values_query(df_vis, [\"income\"])\n",
    "df_after_drop_extreme_values = df_vis.query(query)\n",
    "\n",
    "sns.catplot(\n",
    "    x='city_type',\n",
    "    y='income',\n",
    "    data=df_after_drop_extreme_values,\n",
    "    kind='violin',\n",
    "    height=6,\n",
    "    aspect=2)\n",
    "plt.title('Диаграмма \"виолончели\" отображения зависимости кол-ва наблюдений значений дохода клиента (income)\\n'\\\n",
    "          'по типу города (city_type)\\n\\n'\\\n",
    "          'catplot (kind=\"violin\")', \n",
    "          size=12, color='m', weight='bold');"
   ]
  },
  {
   "cell_type": "code",
   "execution_count": null,
   "metadata": {},
   "outputs": [],
   "source": [
    "df_vis = df.copy()\n",
    "\n",
    "sns.distplot(\n",
    "    df_vis.age,\n",
    "    color='blue',\n",
    "    bins=25\n",
    ")\n",
    "plt.title('Диаграмма распределения кол-ва наблюдений во возрасту (age)\\n\\n'\\\n",
    "          'distplot', \n",
    "          size=12, color='m', weight='bold')\n",
    "plt.show();"
   ]
  },
  {
   "cell_type": "code",
   "execution_count": null,
   "metadata": {},
   "outputs": [],
   "source": [
    "df_vis = df.copy()\n",
    "cols = ['nbi', 'income', 'full_mob']\n",
    "\n",
    "query = get_drop_extreme_values_query(df_vis, cols)\n",
    "df_vis = df_vis.query(query)\n",
    "\n",
    "df_vis = df_vis.groupby([\"age\"]).mean().reset_index()\n",
    "\n",
    "df_items = df_vis.loc[:,cols]\n",
    "sns.pairplot(\n",
    "    df_items,\n",
    "    kind='reg'\n",
    ");"
   ]
  },
  {
   "cell_type": "code",
   "execution_count": null,
   "metadata": {},
   "outputs": [],
   "source": [
    "df_vis = df.copy()\n",
    "corr = df_vis.corr()\n",
    "sns.clustermap(\n",
    "    corr, \n",
    "    figsize=(10,8),  \n",
    "    z_score=1, \n",
    "    cbar_kws={\"label\": \"color bar\"}\n",
    ");"
   ]
  },
  {
   "cell_type": "code",
   "execution_count": null,
   "metadata": {},
   "outputs": [],
   "source": [
    "df_vis = df.copy()\n",
    "\n",
    "cols = ['age', 'nbi', 'income', 'full_mob', 'avgtrx_to_balance', 'Avg_trx']\n",
    "query = get_drop_extreme_values_query(df_vis, cols)\n",
    "df_vis = df_vis.query(query)\n",
    "df_vis = df_vis[cols]\n",
    "corr = df_vis.corr()\n",
    "sns.clustermap(\n",
    "    corr, \n",
    "    figsize=(10,8),  \n",
    "    cbar_kws={\"label\": \"color bar\"},\n",
    "    standard_scale=1\n",
    ");"
   ]
  },
  {
   "cell_type": "markdown",
   "metadata": {},
   "source": [
    "### Кластеризация методом k-средних"
   ]
  },
  {
   "cell_type": "code",
   "execution_count": null,
   "metadata": {},
   "outputs": [],
   "source": [
    "df = pd.read_csv(\"test_cluster.csv\", encoding=\"cp1251\", sep=\";\")\n",
    "df.shape"
   ]
  },
  {
   "cell_type": "code",
   "execution_count": null,
   "metadata": {},
   "outputs": [],
   "source": [
    "df1 = df.copy()\n",
    "df1 = df1.drop([\"loan_to_deposit\"], axis=1)\n",
    "df1 = df1.dropna()\n",
    "df1.shape"
   ]
  },
  {
   "cell_type": "code",
   "execution_count": null,
   "metadata": {},
   "outputs": [],
   "source": [
    "# Изменение значений категориальных признаков\n",
    "df2 = df1.copy()\n",
    "def rename_cat_features_values(df, cat_cols):\n",
    "    cat_dicts = {\n",
    "        \"gender\": {\n",
    "            \"М\": 0,\n",
    "            \"F\": 1 },\n",
    "        \"city_type\": {\n",
    "            \"<100\": 0,\n",
    "            \"100-500\": 1,\n",
    "            \"500-1000\": 2,\n",
    "            \"1M+\": 3,\n",
    "            \"Mega\": 4 }\n",
    "    }\n",
    "    df_copy = df.copy()\n",
    "    for cat_col in cat_cols:\n",
    "        df_copy[cat_col] = df_copy[cat_col].apply(lambda x: cat_dicts[cat_col][x])\n",
    "    return df_copy\n",
    "df2 = rename_cat_features_values(df2, [\"gender\", \"city_type\"])"
   ]
  },
  {
   "cell_type": "code",
   "execution_count": null,
   "metadata": {},
   "outputs": [],
   "source": [
    "# Создадим новые признаки равные среднем значения по отдельным характеристикам относящимся к одной тематике (счета, кредиты и т.д)\n",
    "df3 = df2.copy()\n",
    "\n",
    "df3[\"cl_fact\"] = df3.eval(\"(cl_balance_0m + min_cl_balance_1q + max_cl_balance_1q + avg_cl_balance_1Y)\")\n",
    "df3[\"cl_fact\"] = df3[\"cl_fact\"].apply(lambda x: int(x!=0))\n",
    "df3 = df3.drop([\"cl_balance_0m\", \"min_cl_balance_1q\", \"max_cl_balance_1q\", \"avg_cl_balance_1Y\"], axis=1)\n",
    "\n",
    "df3[\"loan_fact\"] = df3.eval(\"(loan_balance_0m + min_loan_balance_1q + max_loan_balance_1q + avg_loan_balance_1Y)/4\")\n",
    "df3[\"loan_fact\"] = df3[\"loan_fact\"].apply(lambda x: int(x!=0))\n",
    "df3 = df3.drop([\"loan_balance_0m\", \"min_loan_balance_1q\", \"max_loan_balance_1q\", \"avg_loan_balance_1Y\"], axis=1)\n",
    "\n",
    "df3[\"td_fact\"] = df3.eval(\"(td_balance_0m + min_td_balance_1q + max_td_balance_1q + avg_td_balance_1Y)/4\")\n",
    "df3[\"td_fact\"] = df3[\"td_fact\"].apply(lambda x: int(x!=0))\n",
    "df3 = df3.drop([\"td_balance_0m\", \"min_td_balance_1q\", \"max_td_balance_1q\", \"avg_td_balance_1Y\"], axis=1)\n",
    "\n",
    "df3[\"ml_fact\"] = df3[\"ml_balance\"].apply(lambda x: int(x!=0))\n",
    "df3 = df3.drop([\"ml_balance\"], axis=1)\n",
    "\n",
    "df3[\"casa_score\"] = df3.eval(\"(casa_balance_0m + min_casa_balance_1q + max_casa_balance_1q + avg_casa_balance_1Y)/4\")\n",
    "df3 = df3.drop([\"casa_balance_0m\", \"min_casa_balance_1q\", \"max_casa_balance_1q\", \"avg_casa_balance_1Y\"], axis=1)\n",
    "\n",
    "df3.head()"
   ]
  },
  {
   "cell_type": "code",
   "execution_count": null,
   "metadata": {},
   "outputs": [],
   "source": [
    "# Оставляем только наблюдения между (Q1-IQR; Q3+IQR) либо нулевые\n",
    "df4 = df3.copy()\n",
    "\n",
    "cols = [\n",
    "        'age', 'nbi', 'income', 'full_mob',\n",
    "        'casa_score',\n",
    "        'Avg_trx', 'avgtrx_to_balance', 'dc_trx_cnt', 'dc_trx_sum'\n",
    "       ]\n",
    "query = get_drop_extreme_values_query(df4, cols)\n",
    "df4 = df4.query(query)"
   ]
  },
  {
   "cell_type": "code",
   "execution_count": null,
   "metadata": {},
   "outputs": [],
   "source": [
    "# Переводим значение числового признака указывающего доход (income) в бинарный (есть/нету)\n",
    "df4.income = df4.income.apply(lambda x: int(x!=0))"
   ]
  },
  {
   "cell_type": "code",
   "execution_count": null,
   "metadata": {},
   "outputs": [],
   "source": [
    "# Решаю уменьшить размер выборки по данным признакам.\n",
    "df_c = df4.copy()\n",
    "df_c = df_c.drop(['casa_score', 'full_mob', 'dc_trx_cnt', 'Avg_trx', 'dc_trx_sum'], axis=1)\n",
    "df_c.nbi = (df_c.nbi-df_c.nbi.min())/(df_c.nbi.max()-df_c.nbi.min())"
   ]
  },
  {
   "cell_type": "code",
   "execution_count": null,
   "metadata": {},
   "outputs": [],
   "source": [
    "# поиск оптимального кол-ва кластеров\n",
    "from sklearn.cluster import KMeans\n",
    "\n",
    "K = range(1, 11)\n",
    "models = [KMeans(n_clusters=k, random_state=111).fit(df_c) for k in K]\n",
    "dist = [model.inertia_ for model in models]\n",
    "\n",
    "plt.plot(K, dist, marker=\"o\")\n",
    "plt.xlabel(\"k\")\n",
    "plt.ylabel(\"Сумма межкластерных расстояний\")\n",
    "plt.title(\"Метод локтя\")\n",
    "plt.show()"
   ]
  },
  {
   "cell_type": "code",
   "execution_count": null,
   "metadata": {},
   "outputs": [],
   "source": [
    "k = 3\n",
    "model = KMeans(n_clusters=k, random_state=1)\n",
    "model.fit(df_c)"
   ]
  },
  {
   "cell_type": "code",
   "execution_count": null,
   "metadata": {},
   "outputs": [],
   "source": [
    "for i in range(k):\n",
    "    print(f\"{(model.labels_==i).sum()}\")"
   ]
  },
  {
   "cell_type": "code",
   "execution_count": null,
   "metadata": {},
   "outputs": [],
   "source": [
    "df_c[\"label\"] = model.labels_\n",
    "df_c.groupby(\"label\").mean()"
   ]
  },
  {
   "cell_type": "markdown",
   "metadata": {},
   "source": [
    "#### Заключение по полученным кластерам.\n",
    "Кластеры делят выборку 3 категории:\n",
    "1. Размер кластера самый большой, более молодой сегмент, минимальный доход с клиента, меньший процент кредитов, меньше всего ипотек.\n",
    "2. Размер кластера средний, средний возростной сегмент, доход с клиента и наличие кредитов сопоставимы с показателями в 3м кластере и превышают показатели в 1ом, средний процент общего кол-ва кредитов и ипотек в частности самый большой, показатель по депозитам средний.\n",
    "3. Размер кластера самый маленький, более возростной сегмент, доход с клиента и наличие кредитов сопоставимы с показателями в 2м кластере и превышают показатели в 1ом, средний процент общего кол-ва кредитов и ипотек в частности средний, показатель по депозитам самый большой."
   ]
  },
  {
   "cell_type": "markdown",
   "metadata": {},
   "source": [
    "#### Вывод по датасету.\n",
    "\n",
    "Из сгруппированных данных по наличию дохода, можно предположить, что признак **income** - указывает на оффициальный доход либо доход который был просто указан в выборке (т.к. неизвестно из каких источников и какими методами заполнялся датасет), следовательно дальнейшие предположения касаются того, что датасет делится на категорию людей **официально трудоустроенных/c указанным доходом** и **предпринимателей/самозанятых / с неуказанным доходом**. \n",
    "\n",
    "Признак **loan_to_deposit** - помимо большого кол-ва пропусков - имеет большое кол-во нулевых значений.\n",
    "\n",
    "Датасет можно использовать, например, для задач по таргетированию рекламы предложений банковских продуктов (кредиты/ипотеки/вклады)."
   ]
  },
  {
   "cell_type": "code",
   "execution_count": null,
   "metadata": {},
   "outputs": [],
   "source": []
  }
 ],
 "metadata": {
  "kernelspec": {
   "display_name": "Python 3",
   "language": "python",
   "name": "python3"
  },
  "language_info": {
   "codemirror_mode": {
    "name": "ipython",
    "version": 3
   },
   "file_extension": ".py",
   "mimetype": "text/x-python",
   "name": "python",
   "nbconvert_exporter": "python",
   "pygments_lexer": "ipython3",
   "version": "3.8.3"
  }
 },
 "nbformat": 4,
 "nbformat_minor": 4
}
